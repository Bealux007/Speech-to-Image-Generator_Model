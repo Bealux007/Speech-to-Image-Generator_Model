{
 "cells": [
  {
   "cell_type": "code",
   "execution_count": 1,
   "metadata": {},
   "outputs": [],
   "source": [
    "# import all necessary libraries\n",
    "import os\n",
    "import streamlit as st\n",
    "import openai\n",
    "import speech_recognition as sr\n",
    "import pyaudio\n",
    "import wave\n",
    "import requests\n",
    "from io import BytesIO\n",
    "from PIL import Image\n",
    "from dotenv import load_dotenv"
   ]
  },
  {
   "cell_type": "code",
   "execution_count": 2,
   "metadata": {},
   "outputs": [],
   "source": [
    "# ✅ Load OpenAI API Key\n",
    "load_dotenv()\n",
    "openai.api_key = os.getenv(\"OPENAI_API_KEY\")  # Replace with your actual key"
   ]
  },
  {
   "cell_type": "code",
   "execution_count": 3,
   "metadata": {},
   "outputs": [
    {
     "name": "stderr",
     "output_type": "stream",
     "text": [
      "2025-02-04 01:01:24.129 WARNING streamlit.runtime.scriptrunner_utils.script_run_context: Thread 'MainThread': missing ScriptRunContext! This warning can be ignored when running in bare mode.\n",
      "2025-02-04 01:01:24.551 \n",
      "  \u001b[33m\u001b[1mWarning:\u001b[0m to view this Streamlit app on a browser, run it with the following\n",
      "  command:\n",
      "\n",
      "    streamlit run c:\\Users\\bharw\\Documents\\GitHub\\vettura-genai\\venv\\Lib\\site-packages\\ipykernel_launcher.py [ARGUMENTS]\n",
      "2025-02-04 01:01:24.552 Thread 'MainThread': missing ScriptRunContext! This warning can be ignored when running in bare mode.\n",
      "2025-02-04 01:01:24.553 Thread 'MainThread': missing ScriptRunContext! This warning can be ignored when running in bare mode.\n",
      "2025-02-04 01:01:24.553 Thread 'MainThread': missing ScriptRunContext! This warning can be ignored when running in bare mode.\n",
      "2025-02-04 01:01:24.554 Thread 'MainThread': missing ScriptRunContext! This warning can be ignored when running in bare mode.\n",
      "2025-02-04 01:01:24.555 Thread 'MainThread': missing ScriptRunContext! This warning can be ignored when running in bare mode.\n",
      "2025-02-04 01:01:24.555 Thread 'MainThread': missing ScriptRunContext! This warning can be ignored when running in bare mode.\n"
     ]
    }
   ],
   "source": [
    "# ✅ Streamlit App UI\n",
    "st.title(\"Real-Time AI Image Modifier with Speech\")\n",
    "\n",
    "uploaded_image = st.file_uploader(\" Upload an Image\", type=[\"jpg\", \"jpeg\", \"png\"])"
   ]
  },
  {
   "cell_type": "code",
   "execution_count": 4,
   "metadata": {},
   "outputs": [],
   "source": [
    "# Function to Record Real-Time Audio\n",
    "def record_audio(filename=\"recorded_audio.wav\", duration=5, sample_rate=44100):\n",
    "    recognizer = sr.Recognizer()\n",
    "    microphone = sr.Microphone()\n",
    "\n",
    "    with microphone as source:\n",
    "        st.write(\"🎙 Speak now...\")\n",
    "        recognizer.adjust_for_ambient_noise(source)\n",
    "        audio = recognizer.listen(source, timeout=duration)\n",
    "\n",
    "    with open(filename, \"wb\") as f:\n",
    "        f.write(audio.get_wav_data())\n",
    "    \n",
    "    return filename"
   ]
  },
  {
   "cell_type": "code",
   "execution_count": 5,
   "metadata": {},
   "outputs": [],
   "source": [
    "#  Function to Transcribe Audio Using OpenAI Whisper\n",
    "def transcribe_audio(audio_file):\n",
    "    with open(audio_file, \"rb\") as audio:\n",
    "        response = openai.Audio.transcribe(model=\"whisper-1\", file=audio)\n",
    "    return response[\"text\"]"
   ]
  },
  {
   "cell_type": "code",
   "execution_count": 6,
   "metadata": {},
   "outputs": [],
   "source": [
    "#  Function to Generate AI Image Using DALL-E 3\n",
    "def generate_image(prompt):\n",
    "    response = openai.Image.create(\n",
    "        model=\"dall-e-3\",\n",
    "        prompt=prompt,\n",
    "        n=1,\n",
    "        size=\"1024x1024\"\n",
    "    )\n",
    "    image_url = response[\"data\"][0][\"url\"]\n",
    "    image_response = requests.get(image_url)\n",
    "    img = Image.open(BytesIO(image_response.content))\n",
    "    return img"
   ]
  },
  {
   "cell_type": "code",
   "execution_count": 7,
   "metadata": {},
   "outputs": [
    {
     "name": "stderr",
     "output_type": "stream",
     "text": [
      "2025-02-04 01:01:34.420 Thread 'MainThread': missing ScriptRunContext! This warning can be ignored when running in bare mode.\n",
      "2025-02-04 01:01:34.421 Thread 'MainThread': missing ScriptRunContext! This warning can be ignored when running in bare mode.\n",
      "2025-02-04 01:01:34.421 Thread 'MainThread': missing ScriptRunContext! This warning can be ignored when running in bare mode.\n",
      "2025-02-04 01:01:34.422 Thread 'MainThread': missing ScriptRunContext! This warning can be ignored when running in bare mode.\n",
      "2025-02-04 01:01:34.423 Thread 'MainThread': missing ScriptRunContext! This warning can be ignored when running in bare mode.\n"
     ]
    }
   ],
   "source": [
    "#  Real-Time Speech Recording Button\n",
    "if st.button(\"🎙 Start Real-Time Recording\"):\n",
    "    audio_path = record_audio(duration=15)\n",
    "    st.session_state[\"audio_path\"] = audio_path\n",
    "    st.success(\"Recording Completed\")"
   ]
  },
  {
   "cell_type": "code",
   "execution_count": 8,
   "metadata": {},
   "outputs": [],
   "source": [
    "#  Process Image Modification After Recording\n",
    "if uploaded_image and \"audio_path\" in st.session_state and st.button(\"Generate Modified Image\"):\n",
    "    transcription = transcribe_audio(st.session_state[\"audio_path\"])\n",
    "    st.write(f\" **Transcription:** {transcription}\")\n",
    "\n",
    "    # Generate AI-modified image\n",
    "    modified_image = generate_image(transcription)\n",
    "\n",
    "    st.image(uploaded_image, caption=\"📸 Original Image\", use_container_width=True)\n",
    "    st.image(modified_image, caption=\"🎨 AI-Generated Image\", use_container_width=True)\n",
    "\n",
    "    # Provide Download Option\n",
    "    modified_image.save(\"modified_image.png\")\n",
    "    with open(\"modified_image.png\", \"rb\") as file:\n",
    "        st.download_button(label=\" Download Modified Image\", data=file, file_name=\"modified_image.png\", mime=\"image/png\")"
   ]
  },
  {
   "cell_type": "code",
   "execution_count": null,
   "metadata": {},
   "outputs": [],
   "source": []
  }
 ],
 "metadata": {
  "kernelspec": {
   "display_name": "venv",
   "language": "python",
   "name": "python3"
  },
  "language_info": {
   "codemirror_mode": {
    "name": "ipython",
    "version": 3
   },
   "file_extension": ".py",
   "mimetype": "text/x-python",
   "name": "python",
   "nbconvert_exporter": "python",
   "pygments_lexer": "ipython3",
   "version": "3.12.4"
  }
 },
 "nbformat": 4,
 "nbformat_minor": 2
}
